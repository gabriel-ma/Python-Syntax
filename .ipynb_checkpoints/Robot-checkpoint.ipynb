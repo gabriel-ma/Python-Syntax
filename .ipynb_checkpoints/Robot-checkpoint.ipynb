{
 "cells": [
  {
   "cell_type": "code",
   "execution_count": null,
   "metadata": {
    "collapsed": true
   },
   "outputs": [],
   "source": [
    "class Point(object):\n",
    "    def __init__(self, x, y):\n",
    "        self.x = x\n",
    "        self.y = y\n",
    "    def __str__(self):\n",
    "        return '<%s, %s> %s' % (self.x, self.y, self.name)\n",
    "    def __repr__(self):\n",
    "        return '<Reward>: %s' % str(self) \n",
    "        \n",
    "class Reward(Point):\n",
    "    def __init__(self, x, y, name):\n",
    "        super(Reward, self).__init__(x,y)\n",
    "        self.name = name\n",
    "        \n",
    "class Robot(Point):\n",
    "   \n",
    "    def move_up(self):\n",
    "        if self.y < 10:\n",
    "            self.y = self.y+1\n",
    "        else:\n",
    "            print(\"Nop\")\n",
    "    def move_down(self):\n",
    "        if self.y > 0:\n",
    "            self.y = self.y-1\n",
    "        else:\n",
    "            print(\"Nop\")\n",
    "    def move_right(self):\n",
    "        if self.x < 10:\n",
    "            self.x = self.x+1\n",
    "        else:\n",
    "            print(\"Nop\")\n",
    "    def move_left(self):\n",
    "        if self.x > 0:\n",
    "            self.x = self.x-1\n",
    "        else:\n",
    "            print(\"Nop\")"
   ]
  },
  {
   "cell_type": "code",
   "execution_count": null,
   "metadata": {
    "collapsed": true
   },
   "outputs": [],
   "source": [
    "def check_reward(robot, rewards):\n",
    "    ok = False\n",
    "    for reward in rewards:\n",
    "        if reward.x == robot.x and reward.y == robot.y:\n",
    "            print(\"The robot found %s\" % reward.name)\n",
    "            ok = True\n",
    "    return ok"
   ]
  },
  {
   "cell_type": "code",
   "execution_count": null,
   "metadata": {
    "collapsed": true
   },
   "outputs": [],
   "source": [
    "import random\n",
    "r1 = Reward(random.randint(0,10), random.randint(0,10), \"Gold Coin\")\n",
    "r2 = Reward(random.randint(0,10), random.randint(0,10), \"Gasoline\")\n",
    "r3 = Reward(random.randint(0,10), random.randint(0,10), \"Gun\")\n",
    "rewards = [r1, r2, r3]"
   ]
  },
  {
   "cell_type": "raw",
   "metadata": {},
   "source": [
    "robot = Robot(random.randint(0,10), random.randint(0,10))"
   ]
  },
  {
   "cell_type": "code",
   "execution_count": null,
   "metadata": {
    "collapsed": true
   },
   "outputs": [],
   "source": [
    "\n",
    "for i in range(10):\n",
    "    move = input(\"Type up, down, left or right to move:\")\n",
    "    if move == 'up':\n",
    "        robot.move_up()\n",
    "    elif move == 'down':\n",
    "        robot.move_down()\n",
    "    elif move == 'left':\n",
    "        robot.move_left()\n",
    "    elif move == 'right':\n",
    "        robot.move_right()\n",
    "    else:\n",
    "        print(\"Invalid move\")\n",
    "        continue\n"
   ]
  },
  {
   "cell_type": "code",
   "execution_count": null,
   "metadata": {
    "collapsed": true
   },
   "outputs": [],
   "source": [
    "print('a')"
   ]
  },
  {
   "cell_type": "code",
   "execution_count": null,
   "metadata": {
    "collapsed": true
   },
   "outputs": [],
   "source": []
  },
  {
   "cell_type": "code",
   "execution_count": null,
   "metadata": {
    "collapsed": true
   },
   "outputs": [],
   "source": [
    "a\n"
   ]
  },
  {
   "cell_type": "code",
   "execution_count": null,
   "metadata": {
    "collapsed": true
   },
   "outputs": [],
   "source": []
  }
 ],
 "metadata": {
  "kernelspec": {
   "display_name": "Python 3",
   "language": "python",
   "name": "python3"
  },
  "language_info": {
   "codemirror_mode": {
    "name": "ipython",
    "version": 3
   },
   "file_extension": ".py",
   "mimetype": "text/x-python",
   "name": "python",
   "nbconvert_exporter": "python",
   "pygments_lexer": "ipython3",
   "version": "3.6.2"
  }
 },
 "nbformat": 4,
 "nbformat_minor": 2
}
